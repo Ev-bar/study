{
 "cells": [
  {
   "cell_type": "code",
   "execution_count": 2,
   "id": "a5442ca9",
   "metadata": {},
   "outputs": [],
   "source": [
    "import pandas as pd"
   ]
  },
  {
   "cell_type": "code",
   "execution_count": 15,
   "id": "de8d8703",
   "metadata": {},
   "outputs": [
    {
     "data": {
      "text/html": [
       "<div>\n",
       "<style scoped>\n",
       "    .dataframe tbody tr th:only-of-type {\n",
       "        vertical-align: middle;\n",
       "    }\n",
       "\n",
       "    .dataframe tbody tr th {\n",
       "        vertical-align: top;\n",
       "    }\n",
       "\n",
       "    .dataframe thead th {\n",
       "        text-align: right;\n",
       "    }\n",
       "</style>\n",
       "<table border=\"1\" class=\"dataframe\">\n",
       "  <thead>\n",
       "    <tr style=\"text-align: right;\">\n",
       "      <th></th>\n",
       "      <th>user_id</th>\n",
       "      <th>timestamp</th>\n",
       "      <th>group</th>\n",
       "      <th>landing_page</th>\n",
       "      <th>converted</th>\n",
       "    </tr>\n",
       "  </thead>\n",
       "  <tbody>\n",
       "    <tr>\n",
       "      <th>0</th>\n",
       "      <td>851104</td>\n",
       "      <td>2017-01-21 22:11:48.556739</td>\n",
       "      <td>control</td>\n",
       "      <td>old_page</td>\n",
       "      <td>0</td>\n",
       "    </tr>\n",
       "    <tr>\n",
       "      <th>1</th>\n",
       "      <td>804228</td>\n",
       "      <td>2017-01-12 08:01:45.159739</td>\n",
       "      <td>control</td>\n",
       "      <td>old_page</td>\n",
       "      <td>0</td>\n",
       "    </tr>\n",
       "    <tr>\n",
       "      <th>2</th>\n",
       "      <td>661590</td>\n",
       "      <td>2017-01-11 16:55:06.154213</td>\n",
       "      <td>treatment</td>\n",
       "      <td>new_page</td>\n",
       "      <td>0</td>\n",
       "    </tr>\n",
       "    <tr>\n",
       "      <th>3</th>\n",
       "      <td>853541</td>\n",
       "      <td>2017-01-08 18:28:03.143765</td>\n",
       "      <td>treatment</td>\n",
       "      <td>new_page</td>\n",
       "      <td>0</td>\n",
       "    </tr>\n",
       "    <tr>\n",
       "      <th>4</th>\n",
       "      <td>864975</td>\n",
       "      <td>2017-01-21 01:52:26.210827</td>\n",
       "      <td>control</td>\n",
       "      <td>old_page</td>\n",
       "      <td>1</td>\n",
       "    </tr>\n",
       "    <tr>\n",
       "      <th>...</th>\n",
       "      <td>...</td>\n",
       "      <td>...</td>\n",
       "      <td>...</td>\n",
       "      <td>...</td>\n",
       "      <td>...</td>\n",
       "    </tr>\n",
       "    <tr>\n",
       "      <th>294473</th>\n",
       "      <td>751197</td>\n",
       "      <td>2017-01-03 22:28:38.630509</td>\n",
       "      <td>control</td>\n",
       "      <td>old_page</td>\n",
       "      <td>0</td>\n",
       "    </tr>\n",
       "    <tr>\n",
       "      <th>294474</th>\n",
       "      <td>945152</td>\n",
       "      <td>2017-01-12 00:51:57.078372</td>\n",
       "      <td>control</td>\n",
       "      <td>old_page</td>\n",
       "      <td>0</td>\n",
       "    </tr>\n",
       "    <tr>\n",
       "      <th>294475</th>\n",
       "      <td>734608</td>\n",
       "      <td>2017-01-22 11:45:03.439544</td>\n",
       "      <td>control</td>\n",
       "      <td>old_page</td>\n",
       "      <td>0</td>\n",
       "    </tr>\n",
       "    <tr>\n",
       "      <th>294476</th>\n",
       "      <td>697314</td>\n",
       "      <td>2017-01-15 01:20:28.957438</td>\n",
       "      <td>control</td>\n",
       "      <td>old_page</td>\n",
       "      <td>0</td>\n",
       "    </tr>\n",
       "    <tr>\n",
       "      <th>294477</th>\n",
       "      <td>715931</td>\n",
       "      <td>2017-01-16 12:40:24.467417</td>\n",
       "      <td>treatment</td>\n",
       "      <td>new_page</td>\n",
       "      <td>1</td>\n",
       "    </tr>\n",
       "  </tbody>\n",
       "</table>\n",
       "<p>294478 rows × 5 columns</p>\n",
       "</div>"
      ],
      "text/plain": [
       "        user_id                   timestamp      group landing_page  converted\n",
       "0        851104  2017-01-21 22:11:48.556739    control     old_page          0\n",
       "1        804228  2017-01-12 08:01:45.159739    control     old_page          0\n",
       "2        661590  2017-01-11 16:55:06.154213  treatment     new_page          0\n",
       "3        853541  2017-01-08 18:28:03.143765  treatment     new_page          0\n",
       "4        864975  2017-01-21 01:52:26.210827    control     old_page          1\n",
       "...         ...                         ...        ...          ...        ...\n",
       "294473   751197  2017-01-03 22:28:38.630509    control     old_page          0\n",
       "294474   945152  2017-01-12 00:51:57.078372    control     old_page          0\n",
       "294475   734608  2017-01-22 11:45:03.439544    control     old_page          0\n",
       "294476   697314  2017-01-15 01:20:28.957438    control     old_page          0\n",
       "294477   715931  2017-01-16 12:40:24.467417  treatment     new_page          1\n",
       "\n",
       "[294478 rows x 5 columns]"
      ]
     },
     "execution_count": 15,
     "metadata": {},
     "output_type": "execute_result"
    }
   ],
   "source": [
    "df = pd.read_csv('ab_data - ab_data.csv')\n",
    "df"
   ]
  },
  {
   "cell_type": "code",
   "execution_count": 17,
   "id": "be4a1cac",
   "metadata": {},
   "outputs": [],
   "source": [
    "df.timestamp = pd.to_datetime(df.timestamp)"
   ]
  },
  {
   "cell_type": "code",
   "execution_count": 18,
   "id": "3e5632eb",
   "metadata": {},
   "outputs": [
    {
     "name": "stdout",
     "output_type": "stream",
     "text": [
      "<class 'pandas.core.frame.DataFrame'>\n",
      "RangeIndex: 294478 entries, 0 to 294477\n",
      "Data columns (total 5 columns):\n",
      " #   Column        Non-Null Count   Dtype         \n",
      "---  ------        --------------   -----         \n",
      " 0   user_id       294478 non-null  int64         \n",
      " 1   timestamp     294478 non-null  datetime64[ns]\n",
      " 2   group         294478 non-null  object        \n",
      " 3   landing_page  294478 non-null  object        \n",
      " 4   converted     294478 non-null  int64         \n",
      "dtypes: datetime64[ns](1), int64(2), object(2)\n",
      "memory usage: 11.2+ MB\n"
     ]
    }
   ],
   "source": [
    "df.info()"
   ]
  },
  {
   "cell_type": "code",
   "execution_count": 19,
   "id": "35f47e99",
   "metadata": {},
   "outputs": [
    {
     "data": {
      "text/plain": [
       "user_id         290584\n",
       "timestamp       294478\n",
       "group                2\n",
       "landing_page         2\n",
       "converted            2\n",
       "dtype: int64"
      ]
     },
     "execution_count": 19,
     "metadata": {},
     "output_type": "execute_result"
    }
   ],
   "source": [
    "# проверка на уникальность каждого столбца\n",
    "df.nunique()"
   ]
  },
  {
   "cell_type": "code",
   "execution_count": 56,
   "id": "d7265eb0",
   "metadata": {},
   "outputs": [
    {
     "data": {
      "text/html": [
       "<div>\n",
       "<style scoped>\n",
       "    .dataframe tbody tr th:only-of-type {\n",
       "        vertical-align: middle;\n",
       "    }\n",
       "\n",
       "    .dataframe tbody tr th {\n",
       "        vertical-align: top;\n",
       "    }\n",
       "\n",
       "    .dataframe thead th {\n",
       "        text-align: right;\n",
       "    }\n",
       "</style>\n",
       "<table border=\"1\" class=\"dataframe\">\n",
       "  <thead>\n",
       "    <tr style=\"text-align: right;\">\n",
       "      <th></th>\n",
       "      <th>user_id</th>\n",
       "      <th>timestamp</th>\n",
       "      <th>group</th>\n",
       "      <th>landing_page</th>\n",
       "      <th>converted</th>\n",
       "    </tr>\n",
       "  </thead>\n",
       "  <tbody>\n",
       "    <tr>\n",
       "      <th>230259</th>\n",
       "      <td>630052</td>\n",
       "      <td>2017-01-17 01:16:05.208766</td>\n",
       "      <td>treatment</td>\n",
       "      <td>new_page</td>\n",
       "      <td>0</td>\n",
       "    </tr>\n",
       "    <tr>\n",
       "      <th>213114</th>\n",
       "      <td>630052</td>\n",
       "      <td>2017-01-07 12:25:54.089486</td>\n",
       "      <td>treatment</td>\n",
       "      <td>old_page</td>\n",
       "      <td>1</td>\n",
       "    </tr>\n",
       "    <tr>\n",
       "      <th>22513</th>\n",
       "      <td>630126</td>\n",
       "      <td>2017-01-14 13:35:54.778695</td>\n",
       "      <td>treatment</td>\n",
       "      <td>old_page</td>\n",
       "      <td>0</td>\n",
       "    </tr>\n",
       "    <tr>\n",
       "      <th>251762</th>\n",
       "      <td>630126</td>\n",
       "      <td>2017-01-19 17:16:00.280440</td>\n",
       "      <td>treatment</td>\n",
       "      <td>new_page</td>\n",
       "      <td>0</td>\n",
       "    </tr>\n",
       "    <tr>\n",
       "      <th>183371</th>\n",
       "      <td>630137</td>\n",
       "      <td>2017-01-20 02:08:49.893878</td>\n",
       "      <td>control</td>\n",
       "      <td>old_page</td>\n",
       "      <td>0</td>\n",
       "    </tr>\n",
       "    <tr>\n",
       "      <th>...</th>\n",
       "      <td>...</td>\n",
       "      <td>...</td>\n",
       "      <td>...</td>\n",
       "      <td>...</td>\n",
       "      <td>...</td>\n",
       "    </tr>\n",
       "    <tr>\n",
       "      <th>142354</th>\n",
       "      <td>945703</td>\n",
       "      <td>2017-01-08 19:40:51.169351</td>\n",
       "      <td>control</td>\n",
       "      <td>new_page</td>\n",
       "      <td>0</td>\n",
       "    </tr>\n",
       "    <tr>\n",
       "      <th>186960</th>\n",
       "      <td>945797</td>\n",
       "      <td>2017-01-13 17:23:21.750962</td>\n",
       "      <td>control</td>\n",
       "      <td>old_page</td>\n",
       "      <td>0</td>\n",
       "    </tr>\n",
       "    <tr>\n",
       "      <th>40370</th>\n",
       "      <td>945797</td>\n",
       "      <td>2017-01-11 03:04:49.433736</td>\n",
       "      <td>control</td>\n",
       "      <td>new_page</td>\n",
       "      <td>1</td>\n",
       "    </tr>\n",
       "    <tr>\n",
       "      <th>165143</th>\n",
       "      <td>945971</td>\n",
       "      <td>2017-01-16 10:09:18.383183</td>\n",
       "      <td>control</td>\n",
       "      <td>old_page</td>\n",
       "      <td>0</td>\n",
       "    </tr>\n",
       "    <tr>\n",
       "      <th>131756</th>\n",
       "      <td>945971</td>\n",
       "      <td>2017-01-22 12:43:54.087275</td>\n",
       "      <td>control</td>\n",
       "      <td>new_page</td>\n",
       "      <td>0</td>\n",
       "    </tr>\n",
       "  </tbody>\n",
       "</table>\n",
       "<p>7788 rows × 5 columns</p>\n",
       "</div>"
      ],
      "text/plain": [
       "        user_id                  timestamp      group landing_page  converted\n",
       "230259   630052 2017-01-17 01:16:05.208766  treatment     new_page          0\n",
       "213114   630052 2017-01-07 12:25:54.089486  treatment     old_page          1\n",
       "22513    630126 2017-01-14 13:35:54.778695  treatment     old_page          0\n",
       "251762   630126 2017-01-19 17:16:00.280440  treatment     new_page          0\n",
       "183371   630137 2017-01-20 02:08:49.893878    control     old_page          0\n",
       "...         ...                        ...        ...          ...        ...\n",
       "142354   945703 2017-01-08 19:40:51.169351    control     new_page          0\n",
       "186960   945797 2017-01-13 17:23:21.750962    control     old_page          0\n",
       "40370    945797 2017-01-11 03:04:49.433736    control     new_page          1\n",
       "165143   945971 2017-01-16 10:09:18.383183    control     old_page          0\n",
       "131756   945971 2017-01-22 12:43:54.087275    control     new_page          0\n",
       "\n",
       "[7788 rows x 5 columns]"
      ]
     },
     "execution_count": 56,
     "metadata": {},
     "output_type": "execute_result"
    }
   ],
   "source": [
    "# вывести  дубли в user_id\n",
    "duplicated_user_id = df[df.duplicated(['user_id'],keep = False)].sort_values('user_id')\n",
    "duplicated_user_id"
   ]
  },
  {
   "cell_type": "code",
   "execution_count": 60,
   "id": "3262db74",
   "metadata": {},
   "outputs": [
    {
     "data": {
      "text/plain": [
       "3894"
      ]
     },
     "execution_count": 60,
     "metadata": {},
     "output_type": "execute_result"
    }
   ],
   "source": [
    "# посчитать количество дублей чтобы понять что с ними делать\n",
    "duplicated_user_id = df[df.duplicated(['user_id'],keep = False)]['user_id'].nunique()\n",
    "duplicated_user_id"
   ]
  },
  {
   "cell_type": "code",
   "execution_count": 30,
   "id": "e01c2e90",
   "metadata": {},
   "outputs": [
    {
     "data": {
      "text/plain": [
       "290584"
      ]
     },
     "execution_count": 30,
     "metadata": {},
     "output_type": "execute_result"
    }
   ],
   "source": [
    "# общее количество user_id в DF\n",
    "all_user_id = df.user_id.nunique()\n",
    "all_user_id"
   ]
  },
  {
   "cell_type": "code",
   "execution_count": 62,
   "id": "df8546b5",
   "metadata": {},
   "outputs": [
    {
     "data": {
      "text/plain": [
       "1.3400600170690746"
      ]
     },
     "execution_count": 62,
     "metadata": {},
     "output_type": "execute_result"
    }
   ],
   "source": [
    "# % дублей\n",
    "duplicated_user_id/all_user_id * 100"
   ]
  },
  {
   "cell_type": "code",
   "execution_count": 36,
   "id": "5cbaeb31",
   "metadata": {},
   "outputs": [],
   "source": [
    "# дропаем дубли\n",
    "df_without_dublicates = df.drop_duplicates('user_id',keep = False)"
   ]
  },
  {
   "cell_type": "code",
   "execution_count": 43,
   "id": "f29d4fd1",
   "metadata": {},
   "outputs": [
    {
     "name": "stdout",
     "output_type": "stream",
     "text": [
      "(0, 5)\n",
      "(143293, 5)\n",
      "(143397, 5)\n",
      "(0, 5)\n"
     ]
    }
   ],
   "source": [
    "# проверяем что контрольной группе не показалась новая страница и что тестовой группе не показалась старая страница\n",
    "print(df_without_dublicates[(\n",
    "    df_without_dublicates['group'] == 'treatment') & \n",
    "    (df_without_dublicates['landing_page'] == 'old_page')].shape)\n",
    "print(df_without_dublicates[(\n",
    "    df_without_dublicates['group'] == 'control') & \n",
    "    (df_without_dublicates['landing_page'] == 'old_page')].shape)\n",
    "print(df_without_dublicates[(\n",
    "    df_without_dublicates['group'] == 'treatment') & \n",
    "    (df_without_dublicates['landing_page'] == 'new_page')].shape)\n",
    "print(df_without_dublicates[(\n",
    "    df_without_dublicates['group'] == 'control') & \n",
    "    (df_without_dublicates['landing_page'] == 'new_page')].shape)"
   ]
  },
  {
   "cell_type": "code",
   "execution_count": 46,
   "id": "46fa566f",
   "metadata": {},
   "outputs": [
    {
     "name": "stdout",
     "output_type": "stream",
     "text": [
      "group\n",
      "control      0.120173\n",
      "treatment    0.122938\n",
      "Name: converted, dtype: float64\n",
      "treatment    143397\n",
      "control      143293\n",
      "Name: group, dtype: int64\n"
     ]
    }
   ],
   "source": [
    "# дсначала смотрим среднее потом общее количество\n",
    "print(df_without_dublicates.groupby('group').converted.mean())\n",
    "print(df_without_dublicates.group.value_counts())"
   ]
  },
  {
   "cell_type": "code",
   "execution_count": 49,
   "id": "16e5e598",
   "metadata": {},
   "outputs": [
    {
     "name": "stdout",
     "output_type": "stream",
     "text": [
      "Defaulting to user installation because normal site-packages is not writeable\n",
      "Requirement already satisfied: statsmodels in c:\\programdata\\anaconda3\\lib\\site-packages (0.13.5)\n",
      "Requirement already satisfied: pandas>=0.25 in c:\\programdata\\anaconda3\\lib\\site-packages (from statsmodels) (1.5.3)\n",
      "Requirement already satisfied: scipy>=1.3 in c:\\programdata\\anaconda3\\lib\\site-packages (from statsmodels) (1.10.0)\n",
      "Requirement already satisfied: numpy>=1.22.3 in c:\\programdata\\anaconda3\\lib\\site-packages (from statsmodels) (1.23.5)\n",
      "Requirement already satisfied: packaging>=21.3 in c:\\programdata\\anaconda3\\lib\\site-packages (from statsmodels) (22.0)\n",
      "Requirement already satisfied: patsy>=0.5.2 in c:\\programdata\\anaconda3\\lib\\site-packages (from statsmodels) (0.5.3)\n",
      "Requirement already satisfied: python-dateutil>=2.8.1 in c:\\programdata\\anaconda3\\lib\\site-packages (from pandas>=0.25->statsmodels) (2.8.2)\n",
      "Requirement already satisfied: pytz>=2020.1 in c:\\programdata\\anaconda3\\lib\\site-packages (from pandas>=0.25->statsmodels) (2022.7)\n",
      "Requirement already satisfied: six in c:\\programdata\\anaconda3\\lib\\site-packages (from patsy>=0.5.2->statsmodels) (1.16.0)\n"
     ]
    }
   ],
   "source": [
    "!pip install statsmodels"
   ]
  },
  {
   "cell_type": "code",
   "execution_count": 50,
   "id": "bb993267",
   "metadata": {},
   "outputs": [],
   "source": [
    "from statsmodels.stats.weightstats import ztest"
   ]
  },
  {
   "cell_type": "code",
   "execution_count": 51,
   "id": "c9bf39f6",
   "metadata": {},
   "outputs": [],
   "source": [
    "statistics,p_value = ztest(df_without_dublicates[df_without_dublicates['group'] == 'treatment'].converted.values,\n",
    "                           df_without_dublicates[df_without_dublicates['group'] == 'control'].converted.values)"
   ]
  },
  {
   "cell_type": "code",
   "execution_count": 52,
   "id": "32d4c4ec",
   "metadata": {},
   "outputs": [
    {
     "name": "stdout",
     "output_type": "stream",
     "text": [
      "statistics: 2.265364406392722\n",
      "p_value: 0.02349032668040717\n"
     ]
    }
   ],
   "source": [
    "print(f'statistics: {statistics}')\n",
    "print(f'p_value: {p_value}')\n"
   ]
  },
  {
   "cell_type": "code",
   "execution_count": null,
   "id": "167cf37e",
   "metadata": {},
   "outputs": [],
   "source": []
  }
 ],
 "metadata": {
  "kernelspec": {
   "display_name": "Python 3 (ipykernel)",
   "language": "python",
   "name": "python3"
  },
  "language_info": {
   "codemirror_mode": {
    "name": "ipython",
    "version": 3
   },
   "file_extension": ".py",
   "mimetype": "text/x-python",
   "name": "python",
   "nbconvert_exporter": "python",
   "pygments_lexer": "ipython3",
   "version": "3.10.9"
  }
 },
 "nbformat": 4,
 "nbformat_minor": 5
}
